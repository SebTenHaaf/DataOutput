{
 "cells": [
  {
   "cell_type": "markdown",
   "id": "b5af4498-9f84-4221-a378-964b8cb5482e",
   "metadata": {},
   "source": [
    "## Initialization"
   ]
  },
  {
   "cell_type": "code",
   "execution_count": 2,
   "id": "7f9d214f-dad1-4c75-b36f-acf7cb786856",
   "metadata": {},
   "outputs": [],
   "source": [
    "## To start using the package, only need to import the DataOutput module\n",
    "from output_dataset import DataOutput as qp"
   ]
  },
  {
   "cell_type": "code",
   "execution_count": 3,
   "id": "20a0ef9c-91fa-45c4-b344-5ebd33836abc",
   "metadata": {},
   "outputs": [],
   "source": [
    "## Load example data\n",
    "from qcodes import initialise_or_create_database_at\n",
    "db_init = initialise_or_create_database_at('_qcodes_dataset.db')"
   ]
  },
  {
   "cell_type": "markdown",
   "id": "aa14ced1-d54a-4915-8dbc-b0dc2852b22c",
   "metadata": {},
   "source": [
    "# Extracting, formatting and plotting data"
   ]
  },
  {
   "cell_type": "markdown",
   "id": "f788540c-9ed8-43d6-85b1-d85e028b36df",
   "metadata": {},
   "source": [
    "## Auto-plotting & variable formatting"
   ]
  },
  {
   "cell_type": "markdown",
   "id": "8f2450b0-46c9-4044-a724-fc29e032265f",
   "metadata": {},
   "source": [
    "To start showing data, load an xarray dataset or qcodes dataset into a DataOutput object and run show():"
   ]
  },
  {
   "cell_type": "code",
   "execution_count": null,
   "id": "359097ae-7370-47bb-9e15-aaf2f91e5efe",
   "metadata": {},
   "outputs": [],
   "source": [
    "data = qp.DataOutput(1) ## Can load a QCodes or an xarray dataset\n",
    "data.show()"
   ]
  },
  {
   "cell_type": "code",
   "execution_count": null,
   "id": "d340a73c-4ab0-4857-b9f0-9495a91c272a",
   "metadata": {},
   "outputs": [],
   "source": [
    "data = qp.DataOutput(1,reformat=False)\n",
    "data.normalize()\n",
    "data.show()"
   ]
  },
  {
   "cell_type": "code",
   "execution_count": null,
   "id": "409cd636-86d4-4e22-be38-c4745ed4311b",
   "metadata": {},
   "outputs": [],
   "source": [
    "data = qp.DataOutput(1,['meas_current_K1','S21_L_Amplitude']) ## Select a subset of the data\n",
    "data.show()"
   ]
  },
  {
   "cell_type": "code",
   "execution_count": null,
   "id": "41a7c60f-b2eb-4d47-944b-e45ae10466fd",
   "metadata": {},
   "outputs": [],
   "source": [
    "## Load dataset 1\n",
    "data = qp.DataOutput(1)\n",
    "\n",
    "## the show() function will attempt to automatically plot the data in the dataset\n",
    "data.show()\n",
    "\n",
    "## The output figure and axis can be accesed via:\n",
    "data.plots"
   ]
  },
  {
   "cell_type": "markdown",
   "id": "bf99e8f9-7fd2-4f91-a764-daf508230e8a",
   "metadata": {},
   "source": [
    "All parameters will automatically be loaded and saved into a json file. \n",
    "\n",
    "For each parameter the following can be stored:\n",
    "- <b>verbose_name</b>: label to display in figures\n",
    "- <b>unit</b>: correct unit after rescaling\n",
    "- <b>offset</b>: linear offset to add to data (in units of the raw data)\n",
    "- <b>scale</b>: scaling factor to apply to data\n",
    "\n",
    "Upon loading data, the linear transformation will be automatically applied and the correct unit and label will be stored"
   ]
  },
  {
   "cell_type": "code",
   "execution_count": null,
   "id": "85ee85cd-40dc-4c3c-b426-ea563ccabdad",
   "metadata": {},
   "outputs": [],
   "source": [
    "## To show a specific parameter\n",
    "qp.Parameter['v_bias_L']"
   ]
  },
  {
   "cell_type": "code",
   "execution_count": null,
   "id": "2fa281a1-ab2f-4caa-b6cb-6e01455f51c9",
   "metadata": {},
   "outputs": [],
   "source": [
    "## To update a parameter call the update function:\n",
    "qp.Parameter['v_bias_L'].update(verbose_name = '$V_{\\\\mathrm{L}}$', unit = '$\\\\mu V$', scale = 1e6, offset = -4e-6)"
   ]
  },
  {
   "cell_type": "code",
   "execution_count": null,
   "id": "22311bb8-4311-448b-a5b9-f837bd180e1b",
   "metadata": {},
   "outputs": [],
   "source": [
    "## Or use a jupyter widget (call update without any arguments)\n",
    "qp.Parameter['v_bias_L'].update()"
   ]
  },
  {
   "cell_type": "code",
   "execution_count": null,
   "id": "500159c5-0516-4991-98ac-8f87b1867d19",
   "metadata": {},
   "outputs": [],
   "source": [
    "## updating all parameters from the dataset above:\n",
    "qp.Parameter['v_bias_L'].update(verbose_name = '$V_{\\\\mathrm{L}}$', unit = '$\\\\mathrm{\\\\mu V}$', scale = 1e6, offset = -4e-6)\n",
    "qp.Parameter['meas_current_K1'].update(verbose_name = '$I_{\\\\mathrm{L}}$', unit = '$\\\\mathrm{nA}$', scale = 1e9)\n",
    "qp.Parameter['meas_current_K2'].update(verbose_name = '$I_{\\\\mathrm{M}}$', unit = '$\\\\mathrm{nA}$', scale = 1e9)\n",
    "qp.Parameter['meas_current_K3'].update(verbose_name = '$I_{\\\\mathrm{R}}$', unit = '$\\\\mathrm{nA}$', scale = 1e9)\n",
    "\n",
    "\n",
    "qp.Parameter['S21_L_Amplitude'].update(verbose_name = '$S^{\\\\mathrm{L}}_{\\\\mathrm{21}}$', unit = 'a.u.', scale = 1)\n",
    "qp.Parameter['S21_M_Amplitude'].update(verbose_name = '$S^{\\\\mathrm{M}}_{\\\\mathrm{21}}$', unit = 'a.u.', scale = 1)\n",
    "qp.Parameter['S21_R_Amplitude'].update(verbose_name = '$S^{\\\\mathrm{R}}_{\\\\mathrm{21}}$', unit = 'a.u.', scale = 1)\n",
    "\n",
    "\n",
    "qp.Parameter['S21_L_Phase'].update(verbose_name = '$S^{\\\\mathrm{L}}_{\\\\mathrm{\\\\phi}}$', unit = 'rad', scale = 1)\n",
    "qp.Parameter['S21_M_Phase'].update(verbose_name = '$S^{\\\\mathrm{M}}_{\\\\mathrm{\\\\phi}}$', unit = 'rad', scale = 1)\n",
    "qp.Parameter['S21_R_Phase'].update(verbose_name = '$S^{\\\\mathrm{R}}_{\\\\mathrm{\\\\phi}}$', unit = 'rad', scale = 1)\n"
   ]
  },
  {
   "cell_type": "code",
   "execution_count": null,
   "id": "e1eec1a8-aea8-46e5-8fa5-c06b507cd131",
   "metadata": {},
   "outputs": [],
   "source": [
    "## Now nicely formatted\n",
    "data = qp.DataOutput(1)\n",
    "data.show()\n",
    "\n",
    "## Optionally can choose to skip the formatting\n",
    "data = qp.DataOutput(1,reformat=False)\n",
    "data.show()"
   ]
  },
  {
   "cell_type": "markdown",
   "id": "7d32f826-dfae-4309-8616-0e00402632f8",
   "metadata": {},
   "source": [
    "## Loading specific data variables"
   ]
  },
  {
   "cell_type": "markdown",
   "id": "c5c1fece-5434-42bc-8fa3-df597d9561d5",
   "metadata": {},
   "source": [
    "The first argument of DataOutput determines the datasets to load and should be:\n",
    "- An integer (the run_id of a qcodes dataset)\n",
    "- An xarray dataset\n",
    "- A list of integers (to load multiple run_ids)\n",
    "- A list of xarray datasets (to load multiple datasets)\n",
    "\n",
    "The second argument is optional, and should contain the data variables to extract. If not specified, all data variables will be loaded.\n",
    "- A string (loads a single data_var)\n",
    "- A list of strings (load multiple datavars)\n",
    "- A nested list of strings (load different variables in different datasets)\n",
    "    -> The number of nested lists must match the number of datasets to load\n",
    "    -> If a single string or single list is supplied, the same data will be loaded in each of the datasets"
   ]
  },
  {
   "cell_type": "code",
   "execution_count": null,
   "id": "c9f0ace5-5cdf-4fc1-8aba-ff4e383e8130",
   "metadata": {},
   "outputs": [],
   "source": [
    "## Load dataset with id 1, extract only parameters 'S21_L_Amplitude' and 'meas_current_K1'\n",
    "data = qp.DataOutput(1,['S21_L_Amplitude','meas_current_K1'] )\n",
    "\n",
    "## The datasets are stored as attribute:\n",
    "data.datasets"
   ]
  },
  {
   "cell_type": "code",
   "execution_count": null,
   "id": "4d45112f-b4af-424a-9271-726627ce1c88",
   "metadata": {},
   "outputs": [],
   "source": [
    "# Specific variables can also be selected after loading the data:\n",
    "data = qp.DataOutput([1],[['S21_L_Amplitude','meas_current_K1']] )\n",
    "data.show()\n",
    "\n",
    "## Post-select 'S21_L_Amplitude'\n",
    "## (This way of getting creates a new DataOutput object with a subsection of the data\n",
    "subsection = data['S21_L_Amplitude']\n",
    "subsection.normalize()\n",
    "subsection.show()\n"
   ]
  },
  {
   "cell_type": "markdown",
   "id": "4feb3fd3-ea3b-40c7-a783-40ab91b5c824",
   "metadata": {},
   "source": [
    "## Working with xarray datasets directly"
   ]
  },
  {
   "cell_type": "code",
   "execution_count": null,
   "id": "bdf137dd-6a41-4df7-8785-c104a488dc42",
   "metadata": {},
   "outputs": [],
   "source": [
    "import xarray as xr"
   ]
  },
  {
   "cell_type": "code",
   "execution_count": null,
   "id": "6ea031a2-1f12-45aa-ba5c-d863140fcc28",
   "metadata": {},
   "outputs": [],
   "source": [
    "ds = xr.open_dataset('_xarray_dataset.nc')\n",
    "output = qp.DataOutput(ds)"
   ]
  },
  {
   "cell_type": "code",
   "execution_count": null,
   "id": "68f1e69d-9e0f-4a9a-81cf-aaf1016c1959",
   "metadata": {},
   "outputs": [],
   "source": [
    "## Update a bunch of parameter data\n",
    "qp.Parameter['bias_0'].update(verbose_name = '$V_{\\\\mathrm{L}}$', scale= 1000, unit='$\\\\mathrm{\\\\mu V}$')\n",
    "qp.Parameter['bias_1'].update(verbose_name = '$V_{\\\\mathrm{M}}$', scale= 1000, unit='$\\\\mathrm{\\\\mu V}$')\n",
    "qp.Parameter['bias_2'].update(verbose_name = '$V_{\\\\mathrm{R}}$', scale= 1000, unit='$\\\\mathrm{\\\\mu V}$')\n",
    "qp.Parameter['G_00'].update(verbose_name = '$G_{\\\\mathrm{LL}}$', scale= 1, unit='$2e^2/h$')\n",
    "qp.Parameter['G_11'].update(verbose_name = '$G_{\\\\mathrm{MM}}$', scale= 1, unit='$2e^2/h$')\n",
    "qp.Parameter['G_22'].update(verbose_name = '$G_{\\\\mathrm{RR}}$', scale= 1, unit='$2e^2/h$')\n",
    "qp.Parameter['G_01'].update(verbose_name = '$G_{\\\\mathrm{LM}}$', scale= 1, unit='$2e^2/h$')\n",
    "qp.Parameter['G_02'].update(verbose_name = '$G_{\\\\mathrm{LR}}$', scale= 1, unit='$2e^2/h$')\n",
    "qp.Parameter['G_10'].update(verbose_name = '$G_{\\\\mathrm{ML}}$', scale= 1, unit='$2e^2/h$')\n",
    "qp.Parameter['G_12'].update(verbose_name = '$G_{\\\\mathrm{MR}}$', scale= 1, unit='$2e^2/h$')\n",
    "qp.Parameter['G_20'].update(verbose_name = '$G_{\\\\mathrm{RL}}$', scale= 1, unit='$2e^2/h$')\n",
    "qp.Parameter['G_21'].update(verbose_name = '$G_{\\\\mathrm{RM}}$', scale= 1, unit='$2e^2/h$')"
   ]
  },
  {
   "cell_type": "code",
   "execution_count": null,
   "id": "160f3c83-4c85-4c0d-8a99-9bd65d73c626",
   "metadata": {},
   "outputs": [],
   "source": [
    "ds = xr.open_dataset('_xarray_dataset.nc')\n",
    "output = qp.DataOutput(ds)\n",
    "output.show()"
   ]
  },
  {
   "cell_type": "markdown",
   "id": "b9c786d9-9d79-4352-808b-44fa04a91135",
   "metadata": {},
   "source": [
    "# Customizable Plotting & Processing"
   ]
  },
  {
   "cell_type": "markdown",
   "id": "0358395d-11af-4fe8-a8d4-96d330f1f69e",
   "metadata": {},
   "source": [
    "In addition to the auto-plotting, custom plotting and processing functions can be added. \n",
    "\n",
    "A few default options are included:\n",
    "\n",
    "\n",
    "<b> Included processing attributes</b>\n",
    "- normalize() -> rescales all datavariables between 0 and 1\n",
    "- transpose() -> calls xarrays transpose function on each dataset\n",
    "- select() -> calls xarrays .sel() function on each dataset\n",
    "\n",
    "<b> Included plotting attributes</b>\n",
    "- pcolormesh() -> calls pcolormesh for each data variable\n",
    "- colorbar () -> adds a colorbar to each axs (assumes pcolormesh has been called previously)"
   ]
  },
  {
   "cell_type": "markdown",
   "id": "dbd82b68-7d9f-4bd8-b682-16dbd04499aa",
   "metadata": {},
   "source": [
    "## Processing functions"
   ]
  },
  {
   "cell_type": "markdown",
   "id": "1e84f1f3-bc43-493e-b88b-abb59663b2f2",
   "metadata": {},
   "source": [
    "Any function in the _processing file can be called as an attribute on the DataOutput objects\n",
    "\n",
    "The object itself will be automatically passed to any of those functions, in which the data can then be manipulated through accessing the object.datasets\n",
    "\n",
    "Additional **kwargs will be passed along as well\n"
   ]
  },
  {
   "cell_type": "code",
   "execution_count": null,
   "id": "9feb831e-a8b9-443f-9d99-ef0cf92cc8ad",
   "metadata": {},
   "outputs": [],
   "source": [
    "qp.Parameter['v_bias_R'].update()"
   ]
  },
  {
   "cell_type": "code",
   "execution_count": null,
   "id": "2bbd3242-9857-4334-937a-90c4af761366",
   "metadata": {},
   "outputs": [],
   "source": []
  },
  {
   "cell_type": "code",
   "execution_count": null,
   "id": "9c74a3fd-295a-45c0-b176-b5a71ebf16f7",
   "metadata": {},
   "outputs": [],
   "source": [
    "data = qp.DataOutput([2])\n",
    "## Show the data\n",
    "data.show()\n",
    "\n",
    "## Transpose and normalize the data, then show\n",
    "data.transpose()\n",
    "data.normalize()\n",
    "data.show()"
   ]
  },
  {
   "cell_type": "markdown",
   "id": "8e95220f-ded1-46c1-87c9-8a50f59f5cef",
   "metadata": {},
   "source": [
    "### Adding processes"
   ]
  },
  {
   "cell_type": "markdown",
   "id": "a23fda2f-7f07-41ee-a53c-65edccb285e6",
   "metadata": {},
   "source": [
    "For convenience, custom functions can be written in jupyter and added to the file from there, to speed up testing without having to jump back and forth between files"
   ]
  },
  {
   "cell_type": "code",
   "execution_count": null,
   "id": "652754b5-5bad-4ac7-90dc-a72a350eba78",
   "metadata": {},
   "outputs": [],
   "source": [
    "## EXAMPLE: Adding a 'multiplty' process:\n",
    "\n",
    "## The first argument will ALWAYS automatically be the DataOutput object on which you call the function\n",
    "def multiply(data_output: 'DataOutput' , multiplier: int):\n",
    "\n",
    "    ## Loop over all datasets\n",
    "    for idx,dataset in enumerate(data_output.datasets):\n",
    "        new_dataset = dataset*multiplier\n",
    "\n",
    "        ## Override the old dataset with the new dataset\n",
    "        data_output.datasets[idx] = new_dataset\n",
    "\n",
    "## Save the new function to the _processing file\n",
    "qp.save_process(multiply)"
   ]
  },
  {
   "cell_type": "code",
   "execution_count": null,
   "id": "bb88445a-1e1d-45ed-bd9b-22be37eee426",
   "metadata": {},
   "outputs": [],
   "source": []
  },
  {
   "cell_type": "code",
   "execution_count": null,
   "id": "93a9586b-9e83-4f01-81d2-925d59e27256",
   "metadata": {},
   "outputs": [],
   "source": [
    "## The added process can immediately be used!\n",
    "data = qp.DataOutput([1], [['S21_L_Phase']])\n",
    "data.show()\n",
    "data.multiply(1000000)\n",
    "data.show()"
   ]
  },
  {
   "cell_type": "markdown",
   "id": "3465b4a8-692e-4fdd-a897-21228b3c0eaf",
   "metadata": {},
   "source": [
    "## Plotting functions"
   ]
  },
  {
   "cell_type": "code",
   "execution_count": null,
   "id": "51a0c9ac-d0a7-4be4-8bf9-c7cc06f7e778",
   "metadata": {},
   "outputs": [],
   "source": [
    "data = qp.DataOutput(2)\n",
    "## For the default plotting functions: if you do not pass a fig and axs argument, they will be created automatically\n",
    "## This behavior is defined by the 'add_fig_and_axes_if_not_passed' decorator in the _plotting file\n",
    "\n",
    "## Call pcolormesh on all data, pass along arguments (but no fig,axs)\n",
    "data.pcolormesh(cmap = 'Rdbu')\n",
    "## Add a colorbar\n",
    "data.colorbar(length = 0.5,align='right',location='top')\n",
    "\n",
    "## It is also possible to create the fig and axs outside and pass them along\n",
    "import ultraplot as pplt\n",
    "fig,axs = pplt.subplots(ncols = 2, figwidth  = 4, figheight = 2)\n",
    "data = qp.DataOutput(2)\n",
    "data.normalize()\n",
    "data.pcolormesh(fig=fig,axs=axs)\n",
    "data.colorbar(length = 0.5,align='right',location='top')\n"
   ]
  },
  {
   "cell_type": "markdown",
   "id": "a1f31da0-4da3-48f6-a479-ab77416d3a2c",
   "metadata": {},
   "source": [
    "### Adding plotting options"
   ]
  },
  {
   "cell_type": "code",
   "execution_count": 10,
   "id": "12feddd7-a753-4ebf-a210-7fb79f4db354",
   "metadata": {},
   "outputs": [],
   "source": [
    "import ultraplot as pplt"
   ]
  },
  {
   "cell_type": "code",
   "execution_count": 11,
   "id": "af38f43a-8603-4eb1-9652-d38d2622edcf",
   "metadata": {},
   "outputs": [
    {
     "data": {
      "image/png": "[encoded data removed]",
      "text/plain": [
       "Figure(nrows=1, ncols=1, refwidth=2.5)"
      ]
     },
     "metadata": {
      "image/png": {
       "height": 287,
       "width": 291
      }
     },
     "output_type": "display_data"
    }
   ],
   "source": [
    "fig, ax = pplt.subplots(1)"
   ]
  },
  {
   "cell_type": "code",
   "execution_count": null,
   "id": "5e566332-1368-4552-b7b0-716147be3043",
   "metadata": {},
   "outputs": [],
   "source": [
    "data = qp.DataOutput(2)\n",
    "fig,axs = pplt.subplots(ncols = 1, figwidth  = 4, figheight = 2)\n",
    "\n",
    "data.select({'v_bias_R':40})\n",
    "data.plot()"
   ]
  }
 ],
 "metadata": {
  "kernelspec": {
   "display_name": "Python 3 (ipykernel)",
   "language": "python",
   "name": "python3"
  },
  "language_info": {
   "codemirror_mode": {
    "name": "ipython",
    "version": 3
   },
   "file_extension": ".py",
   "mimetype": "text/x-python",
   "name": "python",
   "nbconvert_exporter": "python",
   "pygments_lexer": "ipython3",
   "version": "3.12.9"
  }
 },
 "nbformat": 4,
 "nbformat_minor": 5
}
